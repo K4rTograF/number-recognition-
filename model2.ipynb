{
 "cells": [
  {
   "cell_type": "code",
   "execution_count": 1,
   "id": "46578ba6",
   "metadata": {},
   "outputs": [
    {
     "name": "stdout",
     "output_type": "stream",
     "text": [
      "WARNING:tensorflow:From C:\\Users\\1pros\\anaconda3\\Lib\\site-packages\\keras\\src\\losses.py:2976: The name tf.losses.sparse_softmax_cross_entropy is deprecated. Please use tf.compat.v1.losses.sparse_softmax_cross_entropy instead.\n",
      "\n"
     ]
    }
   ],
   "source": [
    "from __future__ import print_function\n",
    "\n",
    "from tensorflow import keras\n",
    "from tensorflow.keras.datasets import mnist\n",
    "from tensorflow.keras.models import Sequential\n",
    "from tensorflow.keras.layers import Dense, Dropout\n",
    "from tensorflow.keras.optimizers import RMSprop\n",
    "\n",
    "from matplotlib import pyplot as plt\n",
    "import numpy as np\n",
    "import seaborn as sns\n",
    "from sklearn.metrics import confusion_matrix"
   ]
  },
  {
   "cell_type": "code",
   "execution_count": 2,
   "id": "905976d6",
   "metadata": {},
   "outputs": [
    {
     "name": "stdout",
     "output_type": "stream",
     "text": [
      "2.15.0\n"
     ]
    },
    {
     "data": {
      "text/plain": [
       "[]"
      ]
     },
     "execution_count": 2,
     "metadata": {},
     "output_type": "execute_result"
    }
   ],
   "source": [
    "import tensorflow as tf\n",
    "print(tf.__version__)\n",
    "tf.config.list_physical_devices('GPU')"
   ]
  },
  {
   "cell_type": "code",
   "execution_count": 3,
   "id": "e2a2c133",
   "metadata": {},
   "outputs": [
    {
     "name": "stdout",
     "output_type": "stream",
     "text": [
      "2.15.0\n"
     ]
    }
   ],
   "source": [
    "import tensorflow as tf\n",
    "print(tf.__version__)"
   ]
  },
  {
   "cell_type": "code",
   "execution_count": 4,
   "id": "0cacb136",
   "metadata": {},
   "outputs": [],
   "source": [
    "batch_size = 128\n",
    "num_classes = 10\n",
    "epochs = 60"
   ]
  },
  {
   "cell_type": "code",
   "execution_count": 6,
   "id": "5c4b3a4b",
   "metadata": {},
   "outputs": [
    {
     "data": {
      "text/plain": [
       "<matplotlib.image.AxesImage at 0x1b5f4c1e050>"
      ]
     },
     "execution_count": 6,
     "metadata": {},
     "output_type": "execute_result"
    },
    {
     "data": {
      "image/png": "[encoded data removed]",
      "text/plain": [
       "<Figure size 640x480 with 1 Axes>"
      ]
     },
     "metadata": {},
     "output_type": "display_data"
    }
   ],
   "source": [
    "(x_train, y_train), (x_test, y_test) = mnist.load_data()\n",
    "plt.imshow(x_train[4], cmap='Blues')"
   ]
  },
  {
   "cell_type": "code",
   "execution_count": 15,
   "id": "9adb0881",
   "metadata": {},
   "outputs": [
    {
     "name": "stdout",
     "output_type": "stream",
     "text": [
      "60000 train samples\n",
      "10000 test samples\n"
     ]
    }
   ],
   "source": [
    "x_train = x_train.reshape(60000, 784)\n",
    "x_test = x_test.reshape(10000, 784)\n",
    "x_train = x_train.astype('float32')\n",
    "x_test = x_test.astype('float32')\n",
    "x_train /= 255\n",
    "x_test /= 255\n",
    "print(x_train.shape[0], 'train samples')\n",
    "print(x_test.shape[0], 'test samples')"
   ]
  },
  {
   "cell_type": "code",
   "execution_count": 16,
   "id": "11ed0677",
   "metadata": {},
   "outputs": [
    {
     "data": {
      "text/plain": [
       "array([[0., 0., 0., ..., 0., 0., 0.],\n",
       "       [1., 0., 0., ..., 0., 0., 0.],\n",
       "       [0., 0., 0., ..., 0., 0., 0.],\n",
       "       ...,\n",
       "       [0., 0., 0., ..., 0., 0., 0.],\n",
       "       [0., 0., 0., ..., 0., 0., 0.],\n",
       "       [0., 0., 0., ..., 0., 1., 0.]], dtype=float32)"
      ]
     },
     "execution_count": 16,
     "metadata": {},
     "output_type": "execute_result"
    }
   ],
   "source": [
    "y_train = keras.utils.to_categorical(y_train, num_classes)\n",
    "y_test = keras.utils.to_categorical(y_test, num_classes)\n",
    "y_train"
   ]
  },
  {
   "cell_type": "code",
   "execution_count": 17,
   "id": "c4e0f993",
   "metadata": {},
   "outputs": [
    {
     "name": "stdout",
     "output_type": "stream",
     "text": [
      "WARNING:tensorflow:From C:\\Users\\1pros\\anaconda3\\Lib\\site-packages\\keras\\src\\backend.py:873: The name tf.get_default_graph is deprecated. Please use tf.compat.v1.get_default_graph instead.\n",
      "\n",
      "Model: \"sequential\"\n",
      "_________________________________________________________________\n",
      " Layer (type)                Output Shape              Param #   \n",
      "=================================================================\n",
      " dense (Dense)               (None, 512)               401920    \n",
      "                                                                 \n",
      " dropout (Dropout)           (None, 512)               0         \n",
      "                                                                 \n",
      " dense_1 (Dense)             (None, 512)               262656    \n",
      "                                                                 \n",
      " dense_2 (Dense)             (None, 10)                5130      \n",
      "                                                                 \n",
      "=================================================================\n",
      "Total params: 669706 (2.55 MB)\n",
      "Trainable params: 669706 (2.55 MB)\n",
      "Non-trainable params: 0 (0.00 Byte)\n",
      "_________________________________________________________________\n"
     ]
    }
   ],
   "source": [
    "model = Sequential()\n",
    "model.add(Dense(512, activation='relu', input_shape=(784,)))\n",
    "model.add(Dropout(0.01))\n",
    "model.add(Dense(512, activation='relu'))\n",
    "model.add(Dense(10, activation='softmax'))\n",
    "\n",
    "model.summary()"
   ]
  },
  {
   "cell_type": "code",
   "execution_count": 18,
   "id": "625312a6",
   "metadata": {},
   "outputs": [],
   "source": [
    "model.compile(loss='categorical_crossentropy',\n",
    "              optimizer=RMSprop(),\n",
    "              metrics=['accuracy'])"
   ]
  },
  {
   "cell_type": "code",
   "execution_count": 19,
   "id": "6774393d",
   "metadata": {},
   "outputs": [
    {
     "name": "stdout",
     "output_type": "stream",
     "text": [
      "Epoch 1/60\n",
      "WARNING:tensorflow:From C:\\Users\\1pros\\anaconda3\\Lib\\site-packages\\keras\\src\\utils\\tf_utils.py:492: The name tf.ragged.RaggedTensorValue is deprecated. Please use tf.compat.v1.ragged.RaggedTensorValue instead.\n",
      "\n",
      "WARNING:tensorflow:From C:\\Users\\1pros\\anaconda3\\Lib\\site-packages\\keras\\src\\engine\\base_layer_utils.py:384: The name tf.executing_eagerly_outside_functions is deprecated. Please use tf.compat.v1.executing_eagerly_outside_functions instead.\n",
      "\n",
      "469/469 [==============================] - 3s 5ms/step - loss: 0.2272 - accuracy: 0.9302 - val_loss: 0.1206 - val_accuracy: 0.9609\n",
      "Epoch 2/60\n",
      "469/469 [==============================] - 2s 5ms/step - loss: 0.0832 - accuracy: 0.9747 - val_loss: 0.0684 - val_accuracy: 0.9781\n",
      "Epoch 3/60\n",
      "469/469 [==============================] - 2s 5ms/step - loss: 0.0546 - accuracy: 0.9827 - val_loss: 0.0687 - val_accuracy: 0.9807\n",
      "Epoch 4/60\n",
      "469/469 [==============================] - 3s 6ms/step - loss: 0.0389 - accuracy: 0.9880 - val_loss: 0.0648 - val_accuracy: 0.9798\n",
      "Epoch 5/60\n",
      "469/469 [==============================] - 3s 6ms/step - loss: 0.0274 - accuracy: 0.9912 - val_loss: 0.0683 - val_accuracy: 0.9809\n",
      "Epoch 6/60\n",
      "469/469 [==============================] - 2s 5ms/step - loss: 0.0204 - accuracy: 0.9934 - val_loss: 0.0727 - val_accuracy: 0.9814\n",
      "Epoch 7/60\n",
      "469/469 [==============================] - 2s 5ms/step - loss: 0.0160 - accuracy: 0.9951 - val_loss: 0.0638 - val_accuracy: 0.9827\n",
      "Epoch 8/60\n",
      "469/469 [==============================] - 2s 5ms/step - loss: 0.0119 - accuracy: 0.9959 - val_loss: 0.0821 - val_accuracy: 0.9811\n",
      "Epoch 9/60\n",
      "469/469 [==============================] - 2s 5ms/step - loss: 0.0094 - accuracy: 0.9972 - val_loss: 0.0782 - val_accuracy: 0.9812\n",
      "Epoch 10/60\n",
      "469/469 [==============================] - 2s 5ms/step - loss: 0.0071 - accuracy: 0.9977 - val_loss: 0.0846 - val_accuracy: 0.9830\n",
      "Epoch 11/60\n",
      "469/469 [==============================] - 2s 5ms/step - loss: 0.0059 - accuracy: 0.9980 - val_loss: 0.0919 - val_accuracy: 0.9815\n",
      "Epoch 12/60\n",
      "469/469 [==============================] - 2s 5ms/step - loss: 0.0056 - accuracy: 0.9982 - val_loss: 0.0816 - val_accuracy: 0.9839\n",
      "Epoch 13/60\n",
      "469/469 [==============================] - 2s 5ms/step - loss: 0.0048 - accuracy: 0.9986 - val_loss: 0.0827 - val_accuracy: 0.9840\n",
      "Epoch 14/60\n",
      "469/469 [==============================] - 2s 5ms/step - loss: 0.0024 - accuracy: 0.9991 - val_loss: 0.0893 - val_accuracy: 0.9832\n",
      "Epoch 15/60\n",
      "469/469 [==============================] - 2s 5ms/step - loss: 0.0017 - accuracy: 0.9995 - val_loss: 0.0864 - val_accuracy: 0.9840\n",
      "Epoch 16/60\n",
      "469/469 [==============================] - 2s 5ms/step - loss: 9.1803e-04 - accuracy: 0.9997 - val_loss: 0.0996 - val_accuracy: 0.9810\n",
      "Epoch 17/60\n",
      "469/469 [==============================] - 2s 5ms/step - loss: 0.0017 - accuracy: 0.9993 - val_loss: 0.1077 - val_accuracy: 0.9819\n",
      "Epoch 18/60\n",
      "469/469 [==============================] - 2s 5ms/step - loss: 7.9019e-04 - accuracy: 0.9998 - val_loss: 0.0935 - val_accuracy: 0.9847\n",
      "Epoch 19/60\n",
      "469/469 [==============================] - 2s 5ms/step - loss: 8.1438e-04 - accuracy: 0.9997 - val_loss: 0.0933 - val_accuracy: 0.9849\n",
      "Epoch 20/60\n",
      "469/469 [==============================] - 2s 5ms/step - loss: 5.7596e-04 - accuracy: 0.9998 - val_loss: 0.0910 - val_accuracy: 0.9849\n",
      "Epoch 21/60\n",
      "469/469 [==============================] - 2s 5ms/step - loss: 2.7251e-04 - accuracy: 1.0000 - val_loss: 0.0871 - val_accuracy: 0.9854\n",
      "Epoch 22/60\n",
      "469/469 [==============================] - 2s 5ms/step - loss: 1.9604e-04 - accuracy: 1.0000 - val_loss: 0.0871 - val_accuracy: 0.9852\n",
      "Epoch 23/60\n",
      "469/469 [==============================] - 2s 5ms/step - loss: 8.1930e-05 - accuracy: 1.0000 - val_loss: 0.0876 - val_accuracy: 0.9852\n",
      "Epoch 24/60\n",
      "469/469 [==============================] - 2s 5ms/step - loss: 1.7190e-05 - accuracy: 1.0000 - val_loss: 0.0881 - val_accuracy: 0.9854\n",
      "Epoch 25/60\n",
      "469/469 [==============================] - 2s 5ms/step - loss: 1.1984e-05 - accuracy: 1.0000 - val_loss: 0.0897 - val_accuracy: 0.9856\n",
      "Epoch 26/60\n",
      "469/469 [==============================] - 2s 5ms/step - loss: 1.2622e-05 - accuracy: 1.0000 - val_loss: 0.0903 - val_accuracy: 0.9859\n",
      "Epoch 27/60\n",
      "469/469 [==============================] - 2s 5ms/step - loss: 1.1228e-05 - accuracy: 1.0000 - val_loss: 0.0892 - val_accuracy: 0.9858\n",
      "Epoch 28/60\n",
      "469/469 [==============================] - 2s 5ms/step - loss: 7.1991e-06 - accuracy: 1.0000 - val_loss: 0.0897 - val_accuracy: 0.9858\n",
      "Epoch 29/60\n",
      "469/469 [==============================] - 2s 5ms/step - loss: 9.7937e-05 - accuracy: 1.0000 - val_loss: 0.0921 - val_accuracy: 0.9857\n",
      "Epoch 30/60\n",
      "469/469 [==============================] - 2s 5ms/step - loss: 9.0646e-06 - accuracy: 1.0000 - val_loss: 0.0915 - val_accuracy: 0.9855\n",
      "Epoch 31/60\n",
      "469/469 [==============================] - 2s 5ms/step - loss: 1.0776e-05 - accuracy: 1.0000 - val_loss: 0.0913 - val_accuracy: 0.9855\n",
      "Epoch 32/60\n",
      "469/469 [==============================] - 2s 5ms/step - loss: 7.0687e-06 - accuracy: 1.0000 - val_loss: 0.0912 - val_accuracy: 0.9855\n",
      "Epoch 33/60\n",
      "469/469 [==============================] - 2s 5ms/step - loss: 1.4788e-05 - accuracy: 1.0000 - val_loss: 0.0944 - val_accuracy: 0.9854\n",
      "Epoch 34/60\n",
      "469/469 [==============================] - 2s 5ms/step - loss: 1.0666e-05 - accuracy: 1.0000 - val_loss: 0.0951 - val_accuracy: 0.9855\n",
      "Epoch 35/60\n",
      "469/469 [==============================] - 2s 5ms/step - loss: 7.5308e-06 - accuracy: 1.0000 - val_loss: 0.0930 - val_accuracy: 0.9856\n",
      "Epoch 36/60\n",
      "469/469 [==============================] - 2s 5ms/step - loss: 9.7111e-06 - accuracy: 1.0000 - val_loss: 0.0951 - val_accuracy: 0.9850\n",
      "Epoch 37/60\n",
      "469/469 [==============================] - 2s 5ms/step - loss: 1.4486e-05 - accuracy: 1.0000 - val_loss: 0.0964 - val_accuracy: 0.9850\n",
      "Epoch 38/60\n",
      "469/469 [==============================] - 2s 5ms/step - loss: 2.0881e-05 - accuracy: 1.0000 - val_loss: 0.0932 - val_accuracy: 0.9851\n",
      "Epoch 39/60\n",
      "469/469 [==============================] - 2s 5ms/step - loss: 6.5977e-05 - accuracy: 1.0000 - val_loss: 0.0948 - val_accuracy: 0.9850\n",
      "Epoch 40/60\n",
      "469/469 [==============================] - 2s 5ms/step - loss: 7.0011e-06 - accuracy: 1.0000 - val_loss: 0.0934 - val_accuracy: 0.9845\n",
      "Epoch 41/60\n",
      "469/469 [==============================] - 2s 5ms/step - loss: 5.7191e-06 - accuracy: 1.0000 - val_loss: 0.0928 - val_accuracy: 0.9850\n",
      "Epoch 42/60\n",
      "469/469 [==============================] - 2s 5ms/step - loss: 4.4798e-06 - accuracy: 1.0000 - val_loss: 0.0931 - val_accuracy: 0.9851\n",
      "Epoch 43/60\n",
      "469/469 [==============================] - 2s 5ms/step - loss: 5.5103e-06 - accuracy: 1.0000 - val_loss: 0.0930 - val_accuracy: 0.9850\n",
      "Epoch 44/60\n",
      "469/469 [==============================] - 2s 5ms/step - loss: 3.8858e-06 - accuracy: 1.0000 - val_loss: 0.0928 - val_accuracy: 0.9851\n",
      "Epoch 45/60\n",
      "469/469 [==============================] - 2s 5ms/step - loss: 4.4422e-06 - accuracy: 1.0000 - val_loss: 0.0932 - val_accuracy: 0.9852\n",
      "Epoch 46/60\n",
      "469/469 [==============================] - 2s 5ms/step - loss: 4.3601e-06 - accuracy: 1.0000 - val_loss: 0.0930 - val_accuracy: 0.9853\n",
      "Epoch 47/60\n",
      "469/469 [==============================] - 2s 5ms/step - loss: 6.0952e-06 - accuracy: 1.0000 - val_loss: 0.0933 - val_accuracy: 0.9853\n",
      "Epoch 48/60\n",
      "469/469 [==============================] - 2s 5ms/step - loss: 5.4298e-06 - accuracy: 1.0000 - val_loss: 0.0933 - val_accuracy: 0.9853\n",
      "Epoch 49/60\n",
      "469/469 [==============================] - 2s 5ms/step - loss: 4.1142e-06 - accuracy: 1.0000 - val_loss: 0.0935 - val_accuracy: 0.9853\n",
      "Epoch 50/60\n",
      "469/469 [==============================] - 2s 5ms/step - loss: 3.3716e-06 - accuracy: 1.0000 - val_loss: 0.0939 - val_accuracy: 0.9852\n",
      "Epoch 51/60\n",
      "469/469 [==============================] - 2s 5ms/step - loss: 2.9030e-06 - accuracy: 1.0000 - val_loss: 0.0938 - val_accuracy: 0.9852\n",
      "Epoch 52/60\n",
      "469/469 [==============================] - 2s 5ms/step - loss: 3.9850e-06 - accuracy: 1.0000 - val_loss: 0.0936 - val_accuracy: 0.9856\n",
      "Epoch 53/60\n",
      "469/469 [==============================] - 2s 5ms/step - loss: 3.1024e-06 - accuracy: 1.0000 - val_loss: 0.0934 - val_accuracy: 0.9855\n",
      "Epoch 54/60\n",
      "469/469 [==============================] - 2s 5ms/step - loss: 3.5175e-06 - accuracy: 1.0000 - val_loss: 0.0941 - val_accuracy: 0.9854\n",
      "Epoch 55/60\n",
      "469/469 [==============================] - 2s 5ms/step - loss: 1.2598e-04 - accuracy: 1.0000 - val_loss: 0.0945 - val_accuracy: 0.9858\n",
      "Epoch 56/60\n",
      "469/469 [==============================] - 2s 5ms/step - loss: 4.5968e-06 - accuracy: 1.0000 - val_loss: 0.0942 - val_accuracy: 0.9854\n",
      "Epoch 57/60\n",
      "469/469 [==============================] - 2s 5ms/step - loss: 4.5921e-06 - accuracy: 1.0000 - val_loss: 0.0937 - val_accuracy: 0.9856\n",
      "Epoch 58/60\n",
      "469/469 [==============================] - 2s 5ms/step - loss: 3.4026e-06 - accuracy: 1.0000 - val_loss: 0.0939 - val_accuracy: 0.9854\n",
      "Epoch 59/60\n",
      "469/469 [==============================] - 2s 5ms/step - loss: 2.8974e-06 - accuracy: 1.0000 - val_loss: 0.0943 - val_accuracy: 0.9857\n",
      "Epoch 60/60\n",
      "469/469 [==============================] - 2s 5ms/step - loss: 2.6797e-06 - accuracy: 1.0000 - val_loss: 0.0941 - val_accuracy: 0.9854\n"
     ]
    }
   ],
   "source": [
    "history = model.fit(x_train, y_train,\n",
    "                    batch_size=batch_size,\n",
    "                    epochs=epochs,\n",
    "                    verbose=1,\n",
    "                    validation_data=(x_test, y_test))"
   ]
  },
  {
   "cell_type": "code",
   "execution_count": 20,
   "id": "be84043e",
   "metadata": {},
   "outputs": [
    {
     "name": "stdout",
     "output_type": "stream",
     "text": [
      "test loss 0.0941191092133522\n",
      "test acc 0.9854000210762024\n"
     ]
    }
   ],
   "source": [
    "score = model.evaluate(x_test,y_test,verbose = 0)\n",
    "print('test loss',score[0])\n",
    "print('test acc',score[1])"
   ]
  },
  {
   "cell_type": "code",
   "execution_count": 21,
   "id": "eed96594",
   "metadata": {},
   "outputs": [
    {
     "name": "stdout",
     "output_type": "stream",
     "text": [
      "313/313 [==============================] - 0s 1ms/step\n"
     ]
    }
   ],
   "source": [
    "predictions = model.predict(x_test)"
   ]
  },
  {
   "cell_type": "code",
   "execution_count": 22,
   "id": "3bfa9058",
   "metadata": {},
   "outputs": [],
   "source": [
    "y_labels = np.argmax(y_test, axis=1)"
   ]
  },
  {
   "cell_type": "code",
   "execution_count": 23,
   "id": "5d323446",
   "metadata": {},
   "outputs": [],
   "source": [
    "predictions = np.argmax(predictions, axis=1)"
   ]
  },
  {
   "cell_type": "code",
   "execution_count": 24,
   "id": "d8989810",
   "metadata": {},
   "outputs": [],
   "source": [
    "cm =confusion_matrix(y_labels, predictions)"
   ]
  },
  {
   "cell_type": "code",
   "execution_count": 25,
   "id": "7467d161",
   "metadata": {},
   "outputs": [
    {
     "data": {
      "image/png": "[encoded data removed]",
      "text/plain": [
       "<Figure size 640x480 with 2 Axes>"
      ]
     },
     "metadata": {},
     "output_type": "display_data"
    }
   ],
   "source": [
    "hm = sns.heatmap(cm,annot= True, fmt = 'd')"
   ]
  },
  {
   "cell_type": "code",
   "execution_count": null,
   "id": "e92f303a",
   "metadata": {},
   "outputs": [],
   "source": []
  }
 ],
 "metadata": {
  "kernelspec": {
   "display_name": "Python 3 (ipykernel)",
   "language": "python",
   "name": "python3"
  },
  "language_info": {
   "codemirror_mode": {
    "name": "ipython",
    "version": 3
   },
   "file_extension": ".py",
   "mimetype": "text/x-python",
   "name": "python",
   "nbconvert_exporter": "python",
   "pygments_lexer": "ipython3",
   "version": "3.11.5"
  }
 },
 "nbformat": 4,
 "nbformat_minor": 5
}
